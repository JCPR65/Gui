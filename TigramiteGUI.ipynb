{
 "cells": [
  {
   "cell_type": "code",
   "execution_count": 1,
   "metadata": {},
   "outputs": [],
   "source": [
    "import tigramite \n",
    "from __future__ import print_function\n",
    "from ipywidgets import interact, interactive, fixed, interact_manual\n",
    "import ipywidgets as widgets\n",
    "import os\n",
    "\n",
    "#tigramite imports\n",
    "\n",
    "import numpy as np\n",
    "import matplotlib\n",
    "from matplotlib import pyplot as plt\n",
    "%matplotlib inline\n",
    "import sklearn\n",
    "\n",
    "import tigramite\n",
    "from tigramite import data_processing as pp\n",
    "from tigramite import plotting as tp\n",
    "from tigramite.pcmci import PCMCI\n",
    "from tigramite.independence_tests import ParCorr, GPDC, CMIknn, CMIsymb"
   ]
  },
  {
   "cell_type": "markdown",
   "metadata": {},
   "source": [
    "First very basic version"
   ]
  },
  {
   "cell_type": "code",
   "execution_count": null,
   "metadata": {
    "scrolled": false
   },
   "outputs": [],
   "source": []
  },
  {
   "cell_type": "code",
   "execution_count": 3,
   "metadata": {},
   "outputs": [],
   "source": [
    "def calculateResults(Data, Mask, Method, Test):\n",
    "    data = np.load(Data)\n",
    "    if (Mask != \"none\"):\n",
    "        mask = np.load(Mask)\n",
    "        dataframe = pp.DataFrame(data, mask=mask)\n",
    "    else:\n",
    "        dataframe = pp.DataFrame(data)\n",
    "    cond_ind_test = getCondIndTest(Test)\n",
    "    global pcmci\n",
    "    pcmci = PCMCI(\n",
    "        dataframe=dataframe, \n",
    "        cond_ind_test=cond_ind_test,\n",
    "        verbosity=1)\n",
    "    global results \n",
    "    if (Method==\"PCMCI\"):\n",
    "        results = pcmci.run_pcmci(tau_max=8, pc_alpha=None)\n",
    "    elif (Method == \"PCMCI+\"):\n",
    "        results = pcmci.run_pcmciplus()\n",
    "    return True"
   ]
  },
  {
   "cell_type": "code",
   "execution_count": 4,
   "metadata": {},
   "outputs": [],
   "source": [
    "def makePlot(plot_type):\n",
    "    try:\n",
    "        q_matrix = pcmci.get_corrected_pvalues(p_matrix=results['p_matrix'], fdr_method='fdr_bh')\n",
    "        var_names = [r'$X^0$', r'$X^1$', r'$X^2$', r'$X^3$']\n",
    "        \"\"\"pcmci.print_significant_links(\n",
    "                p_matrix = results['p_matrix'], \n",
    "                q_matrix = q_matrix,\n",
    "                val_matrix = results['val_matrix'],\n",
    "                alpha_level = 0.01)\"\"\"\n",
    "        link_matrix = pcmci.return_significant_links(pq_matrix=q_matrix,\n",
    "                        val_matrix=results['val_matrix'], alpha_level=0.01)['link_matrix']\n",
    "        if plot_type==\"Process Graph\":\n",
    "            tp.plot_graph(\n",
    "                val_matrix=results['val_matrix'],\n",
    "                link_matrix=link_matrix,\n",
    "                var_names=var_names,\n",
    "                link_colorbar_label='cross-MCI',\n",
    "                node_colorbar_label='auto-MCI',\n",
    "            )\n",
    "            plt.show()\n",
    "        elif plot_type==\"Time series graph\":\n",
    "            tp.plot_time_series_graph(\n",
    "                figsize=(6, 4),\n",
    "                val_matrix=results['val_matrix'],\n",
    "                link_matrix=link_matrix,\n",
    "                var_names=var_names,\n",
    "                link_colorbar_label='MCI',\n",
    "                )\n",
    "            plt.show()\n",
    "        elif plot_type==\"Lagged Correlation\":\n",
    "            correlations = pcmci.get_lagged_dependencies(tau_max=20, val_only=True)['val_matrix']\n",
    "            lag_func_matrix = tp.plot_lagfuncs(val_matrix=correlations, setup_args={'var_names':var_names, \n",
    "                                    'x_base':5, 'y_base':.5})\n",
    "            plt.show()\n",
    "        else: \n",
    "            print(\"This should not be possible!\")\n",
    "    except Exception as e:\n",
    "        print(\"Something went wrong here! Try executing the first part\")\n",
    "        print(e.message)\n",
    "            \n",
    "    return True\n",
    "    "
   ]
  },
  {
   "cell_type": "code",
   "execution_count": 5,
   "metadata": {},
   "outputs": [],
   "source": [
    "def getCondIndTest(Test):\n",
    "    print(Test)\n",
    "    if (Test == \"ParCorr\"):\n",
    "        return ParCorr(significance='analytic')\n",
    "    elif (Test == \"GPDC\"):\n",
    "        return GPDC()\n",
    "    elif (Test == \"CMIknn\"):\n",
    "        return CMIknn()\n",
    "    elif (Test == \"CMIsymb\"):\n",
    "        return CMIsymb()\n",
    "    else:\n",
    "        raise Exception(\"Something is not right here.\")"
   ]
  },
  {
   "cell_type": "code",
   "execution_count": 6,
   "metadata": {},
   "outputs": [
    {
     "name": "stdout",
     "output_type": "stream",
     "text": [
      "C:\\Users\\rosem\\Documents\\WS 2021\\BA\\Prototype\n"
     ]
    }
   ],
   "source": [
    "# widgets\n",
    "print(os.getcwd())\n",
    "listDir = []\n",
    "for entry in os.scandir(os.getcwd()):\n",
    "    listDir.append(entry.name)\n",
    "listDir.append(\"none\")\n",
    "example_widget = widgets.Dropdown(\n",
    "    options=listDir,#os.scandir(os.getcwd()),#.append(\"none\"),\n",
    "    value='none',\n",
    "    description='Number:',\n",
    "    disabled=False,\n",
    ")\n",
    "data_upload_widget = widgets.Dropdown(\n",
    "    options=listDir,#os.scandir(os.getcwd()),#.append(\"none\"),\n",
    "    value='none',\n",
    "    description='Data:',\n",
    "    disabled=False\n",
    ")\n",
    "\n",
    "mask_upload_widget = widgets.Dropdown(\n",
    "    options=listDir,#os.scandir(os.getcwd()),#.append(\"none\"),\n",
    "    value='none',\n",
    "    description='Mask:',\n",
    "    disabled=False,\n",
    ")\n",
    "method_widget = widgets.Dropdown(\n",
    "    options=[\"PCMCI\", \"PCMCI+\"],\n",
    "    value=\"PCMCI\",\n",
    "    description=\"Method:\",\n",
    "    disabled=False\n",
    ")\n",
    "test_widget = widgets.Dropdown(\n",
    "    options=[\"ParCorr\", \"GPDC\", \"CMIknn\", \"CMIsymb\", \"OracleCI\"],\n",
    "    value=\"ParCorr\",\n",
    "    description=\"CI Test:\",\n",
    "    disabled=False\n",
    ")\n",
    "\n",
    "plots_widget = widgets.Dropdown(\n",
    "    options=[\"Process Graph\", \"Time series graph\", \"Lagged Correlation\"],\n",
    "    value=\"Process Graph\",\n",
    "    description=\"Plot:\",\n",
    "    disabled=False,\n",
    "    continuous_update=True,\n",
    "    \n",
    ")\n"
   ]
  },
  {
   "cell_type": "code",
   "execution_count": 7,
   "metadata": {
    "scrolled": false
   },
   "outputs": [
    {
     "data": {
      "application/vnd.jupyter.widget-view+json": {
       "model_id": "4316f1a325cd4af68492224dde847049",
       "version_major": 2,
       "version_minor": 0
      },
      "text/plain": [
       "AppLayout(children=(Button(button_style='success', description='Header', layout=Layout(grid_area='header', hei…"
      ]
     },
     "metadata": {},
     "output_type": "display_data"
    },
    {
     "name": "stdout",
     "output_type": "stream",
     "text": [
      "ParCorr\n",
      "\n",
      "##\n",
      "## Step 1: PC1 algorithm with lagged conditions\n",
      "##\n",
      "\n",
      "Parameters:\n",
      "independence test = par_corr\n",
      "tau_min = 1\n",
      "tau_max = 1\n",
      "pc_alpha = [0.01]\n",
      "max_conds_dim = None\n",
      "max_combinations = 1\n",
      "\n",
      "\n",
      "\n",
      "## Resulting lagged parent (super)sets:\n",
      "\n",
      "    Variable 0 has 2 parent(s):\n",
      "        (0 -1): max_pval = 0.00000, min_val =  0.948\n",
      "        (1 -1): max_pval = 0.00000, min_val = -0.829\n",
      "\n",
      "    Variable 1 has 2 parent(s):\n",
      "        (1 -1): max_pval = 0.00000, min_val =  0.765\n",
      "        (3 -1): max_pval = 0.00000, min_val =  0.486\n",
      "\n",
      "    Variable 2 has 3 parent(s):\n",
      "        (1 -1): max_pval = 0.00000, min_val =  0.514\n",
      "        (2 -1): max_pval = 0.00000, min_val =  0.491\n",
      "        (0 -1): max_pval = 0.00000, min_val = -0.157\n",
      "\n",
      "    Variable 3 has 1 parent(s):\n",
      "        (3 -1): max_pval = 0.00000, min_val =  0.396\n",
      "\n",
      "##\n",
      "## Step 2: PC algorithm with contemp. conditions and MCI tests\n",
      "##\n",
      "\n",
      "Parameters:\n",
      "\n",
      "independence test = par_corr\n",
      "tau_min = 0\n",
      "tau_max = 1\n",
      "pc_alpha = 0.01\n",
      "contemp_collider_rule = majority\n",
      "conflict_resolution = True\n",
      "reset_lagged_links = False\n",
      "max_conds_dim = None\n",
      "max_conds_py = None\n",
      "max_conds_px = None\n",
      "max_conds_px_lagged = None\n",
      "fdr_method = none\n",
      "\n",
      "## Significant links at alpha = 0.01:\n",
      "\n",
      "    Variable 0 has 2 link(s):\n",
      "        (1 -1): pval = 0.00000 | val = -0.649\n",
      "        (0 -1): pval = 0.00000 | val =  0.562\n",
      "\n",
      "    Variable 1 has 2 link(s):\n",
      "        (3 -1): pval = 0.00000 | val =  0.666\n",
      "        (1 -1): pval = 0.00000 | val =  0.621\n",
      "\n",
      "    Variable 2 has 1 link(s):\n",
      "        (2 -1): pval = 0.00000 | val =  0.461\n",
      "\n",
      "    Variable 3 has 1 link(s):\n",
      "        (3 -1): pval = 0.00000 | val =  0.371\n",
      "changed to Time series graph\n"
     ]
    },
    {
     "data": {
      "image/png": "[encoded data removed]",
      "text/plain": [
       "<Figure size 432x288 with 2 Axes>"
      ]
     },
     "metadata": {
      "needs_background": "light"
     },
     "output_type": "display_data"
    }
   ],
   "source": [
    "from ipywidgets import AppLayout, Button, Layout, VBox\n",
    "from io import BytesIO\n",
    "def create_expanded_button(description, button_style):\n",
    "    return Button(description=description, button_style=button_style, layout=Layout(height='auto', width='auto'))\n",
    "\n",
    "header_button = create_expanded_button('Header', 'success')\n",
    "left_button = create_expanded_button('Left', 'info')\n",
    "center_button = create_expanded_button('Center', 'warning')\n",
    "right_button = create_expanded_button('Right', 'info')\n",
    "footer_button = create_expanded_button('Footer', 'success')\n",
    "run_button = widgets.Button(description=\"Run\")\n",
    "\n",
    "def on_button_clicked(b):\n",
    "    return calculateResults(data_upload_widget.value, mask_upload_widget.value, method_widget.value, test_widget.value)\n",
    "\n",
    "run_button.on_click(on_button_clicked)\n",
    "def on_change(change):\n",
    "    if change['type'] == 'change' and change['name'] == 'value':\n",
    "        print(\"changed to %s\" % change['new'])\n",
    "        makePlot(change['new'])\n",
    "\n",
    "plots_widget.observe(on_change)\n",
    "\n",
    "AppLayout(header=header_button,\n",
    "          left_sidebar= VBox([data_upload_widget, mask_upload_widget, method_widget, test_widget, run_button]),\n",
    "          right_sidebar=VBox([plots_widget]),\n",
    "          footer=footer_button)"
   ]
  },
  {
   "cell_type": "code",
   "execution_count": null,
   "metadata": {},
   "outputs": [],
   "source": []
  },
  {
   "cell_type": "markdown",
   "metadata": {},
   "source": [
    "Alte Version"
   ]
  },
  {
   "cell_type": "code",
   "execution_count": null,
   "metadata": {},
   "outputs": [],
   "source": [
    "\n",
    "var_names = [r'$X^0$', r'$X^1$', r'$X^2$', r'$X^3$']\n",
    "@interact_manual\n",
    "def calcInput(Data=os.listdir(), Mask=example_widget, Method=[\"PCMCI\", \"PCMCI+\"], Tests=[\"Test1\", \"Test2\"]):\n",
    "    return calculateResults(Data, Mask, Method, Tests)\n",
    "\n",
    "@interact_manual\n",
    "def showPlots(plot_type=[\"Process Graph\", \"Time series graph\", \"Lagged Correlation\"]):\n",
    "    return makePlot(plot_type.value)"
   ]
  },
  {
   "cell_type": "code",
   "execution_count": null,
   "metadata": {},
   "outputs": [],
   "source": []
  }
 ],
 "metadata": {
  "kernelspec": {
   "display_name": "Python 3",
   "language": "python",
   "name": "python3"
  },
  "language_info": {
   "codemirror_mode": {
    "name": "ipython",
    "version": 3
   },
   "file_extension": ".py",
   "mimetype": "text/x-python",
   "name": "python",
   "nbconvert_exporter": "python",
   "pygments_lexer": "ipython3",
   "version": "3.8.5"
  }
 },
 "nbformat": 4,
 "nbformat_minor": 4
}
