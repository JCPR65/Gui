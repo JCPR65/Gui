{
 "cells": [
  {
   "cell_type": "code",
   "execution_count": 5,
   "metadata": {},
   "outputs": [],
   "source": [
    "import tigramite \n",
    "from __future__ import print_function\n",
    "from ipywidgets import interact, interactive, fixed, interact_manual\n",
    "import ipywidgets as widgets\n",
    "\n",
    "#tigramite imports\n",
    "\n",
    "import numpy as np\n",
    "import matplotlib\n",
    "from matplotlib import pyplot as plt\n",
    "%matplotlib inline\n",
    "import sklearn\n",
    "\n",
    "import tigramite\n",
    "from tigramite import data_processing as pp\n",
    "from tigramite import plotting as tp\n",
    "from tigramite.pcmci import PCMCI\n",
    "from tigramite.independence_tests import ParCorr, GPDC, CMIknn, CMIsymb"
   ]
  },
  {
   "cell_type": "markdown",
   "metadata": {},
   "source": [
    "First very basic version"
   ]
  },
  {
   "cell_type": "code",
   "execution_count": 6,
   "metadata": {},
   "outputs": [
    {
     "data": {
      "application/vnd.jupyter.widget-view+json": {
       "model_id": "2daf9bc5b80e473bb04922cb33648834",
       "version_major": 2,
       "version_minor": 0
      },
      "text/plain": [
       "interactive(children=(Dropdown(description='Data', options=('.git', '.ipynb_checkpoints', 'data_basic_tutorial…"
      ]
     },
     "metadata": {},
     "output_type": "display_data"
    },
    {
     "data": {
      "application/vnd.jupyter.widget-view+json": {
       "model_id": "83a270129ab043e8ac143f249bc85182",
       "version_major": 2,
       "version_minor": 0
      },
      "text/plain": [
       "interactive(children=(Dropdown(description='plot_type', options=('Process Graph', 'Time series graph', 'Lagged…"
      ]
     },
     "metadata": {},
     "output_type": "display_data"
    }
   ],
   "source": [
    "import os\n",
    "@interact_manual\n",
    "def calcInput(Data=os.listdir(), Mask=os.listdir(), Method=[\"PCMCI\", \"PCMCI+\"], Tests=[\"Test1\", \"Test2\"]):\n",
    "    data = np.load(Data)\n",
    "    dataframe = pp.DataFrame(data)\n",
    "    parcorr = ParCorr(significance='analytic')\n",
    "    global pcmci\n",
    "    pcmci = PCMCI(\n",
    "        dataframe=dataframe, \n",
    "        cond_ind_test=parcorr,\n",
    "        verbosity=1)\n",
    "    pcmci.verbosity = 1\n",
    "    global results \n",
    "    results = pcmci.run_pcmci(tau_max=8, pc_alpha=None)\n",
    "    return True\n",
    "\n",
    "@interact_manual\n",
    "def showPlots(plot_type=[\"Process Graph\", \"Time series graph\", \"Lagged Correlation\"]):\n",
    "    try:\n",
    "        q_matrix = pcmci.get_corrected_pvalues(p_matrix=results['p_matrix'], fdr_method='fdr_bh')\n",
    "        pcmci.print_significant_links(\n",
    "                p_matrix = results['p_matrix'], \n",
    "                q_matrix = q_matrix,\n",
    "                val_matrix = results['val_matrix'],\n",
    "                alpha_level = 0.01)\n",
    "        link_matrix = pcmci.return_significant_links(pq_matrix=q_matrix,\n",
    "                        val_matrix=results['val_matrix'], alpha_level=0.01)['link_matrix']\n",
    "        if plot_type==\"Process Graph\":\n",
    "            tp.plot_graph(\n",
    "                val_matrix=results['val_matrix'],\n",
    "                link_matrix=link_matrix,\n",
    "                var_names=var_names,\n",
    "                link_colorbar_label='cross-MCI',\n",
    "                node_colorbar_label='auto-MCI',\n",
    "            )\n",
    "            plt.show()\n",
    "        elif plot_type==\"Time series graph\":\n",
    "            tp.plot_time_series_graph(\n",
    "                figsize=(6, 4),\n",
    "                val_matrix=results['val_matrix'],\n",
    "                link_matrix=link_matrix,\n",
    "                var_names=var_names,\n",
    "                link_colorbar_label='MCI',\n",
    "                )\n",
    "            plt.show()\n",
    "        elif plot_type==\"Lagged Correlation\":\n",
    "            correlations = pcmci.get_lagged_dependencies(tau_max=20, val_only=True)['val_matrix']\n",
    "            lag_func_matrix = tp.plot_lagfuncs(val_matrix=correlations, setup_args={'var_names':var_names, \n",
    "                                    'x_base':5, 'y_base':.5})\n",
    "            plt.show()\n",
    "        else: \n",
    "            print(\"This should not be possible!\")\n",
    "    except:\n",
    "        print(\"Something went wrong here! Try executing the first part\")\n",
    "            \n",
    "    return True"
   ]
  },
  {
   "cell_type": "code",
   "execution_count": null,
   "metadata": {},
   "outputs": [],
   "source": []
  },
  {
   "cell_type": "code",
   "execution_count": 3,
   "metadata": {},
   "outputs": [],
   "source": [
    "# widgets\n",
    "data_upload_widget = widgets.FileUpload(\n",
    "    accept='.npy',  \n",
    "    multiple=False,\n",
    "    description=\"Data\",\n",
    ")\n",
    "\n",
    "mask_upload_widget = widgets.FileUpload(\n",
    "    accept='.npy',  \n",
    "    multiple=False,\n",
    "    description=\"Mask\",\n",
    ")\n",
    "method_widget = widgets.Dropdown(\n",
    "    options=[\"PCMCI\", \"PCMCI+\"],\n",
    "    value=\"PCMCI\",\n",
    "    description=\"Method\",\n",
    "    disabled=False\n",
    ")\n",
    "test_widget = widgets.Dropdown(\n",
    "    options=[\"Test1\", \"Test2\"],\n",
    "    value=\"Test1\",\n",
    "    description=\"CI Test\",\n",
    "    disabled=False\n",
    ")\n"
   ]
  },
  {
   "cell_type": "code",
   "execution_count": 4,
   "metadata": {},
   "outputs": [
    {
     "data": {
      "application/vnd.jupyter.widget-view+json": {
       "model_id": "c25adc1930f24772abaf4dd31c776d98",
       "version_major": 2,
       "version_minor": 0
      },
      "text/plain": [
       "AppLayout(children=(VBox(children=(FileUpload(value={}, accept='.npy', description='Data'), FileUpload(value={…"
      ]
     },
     "metadata": {},
     "output_type": "display_data"
    }
   ],
   "source": [
    "from ipywidgets import AppLayout, Button, Layout, VBox\n",
    "from io import BytesIO\n",
    "def create_expanded_button(description, button_style):\n",
    "    return Button(description=description, button_style=button_style, layout=Layout(height='auto', width='auto'))\n",
    "\n",
    "header_button = create_expanded_button('Header', 'success')\n",
    "left_button = create_expanded_button('Left', 'info')\n",
    "center_button = create_expanded_button('Center', 'warning')\n",
    "right_button = create_expanded_button('Right', 'info')\n",
    "footer_button = create_expanded_button('Footer', 'success')\n",
    "run_button = widgets.Button(description=\"Run\")\n",
    "\n",
    "def on_button_clicked(b):\n",
    "    #print(data_upload_widget.value)\n",
    "    #uploaded_file = data_upload_widget\n",
    "    loaded_bytes = BytesIO(data_upload_widget[\"content\"].tobytes())\n",
    "    data = np.load(loaded_bytes)\n",
    "    dataframe = pp.DataFrame(data)\n",
    "    parcorr = ParCorr(significance='analytic')\n",
    "    global pcmci\n",
    "    pcmci = PCMCI(\n",
    "        dataframe=dataframe, \n",
    "        cond_ind_test=parcorr,\n",
    "        verbosity=1)\n",
    "    pcmci.verbosity = 1\n",
    "    global results \n",
    "    results = pcmci.run_pcmci(tau_max=8, pc_alpha=None)\n",
    "    return True\n",
    "    \n",
    "\n",
    "run_button.on_click(on_button_clicked)\n",
    "\n",
    "AppLayout(header=VBox([data_upload_widget, mask_upload_widget, method_widget, test_widget, run_button]),\n",
    "          left_sidebar= left_button,\n",
    "          right_sidebar=right_button,\n",
    "          footer=footer_button)"
   ]
  },
  {
   "cell_type": "code",
   "execution_count": null,
   "metadata": {},
   "outputs": [],
   "source": []
  }
 ],
 "metadata": {
  "kernelspec": {
   "display_name": "Python 3",
   "language": "python",
   "name": "python3"
  },
  "language_info": {
   "codemirror_mode": {
    "name": "ipython",
    "version": 3
   },
   "file_extension": ".py",
   "mimetype": "text/x-python",
   "name": "python",
   "nbconvert_exporter": "python",
   "pygments_lexer": "ipython3",
   "version": "3.8.5"
  }
 },
 "nbformat": 4,
 "nbformat_minor": 4
}
