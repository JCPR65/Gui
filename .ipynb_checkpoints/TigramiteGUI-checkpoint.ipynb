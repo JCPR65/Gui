{
 "cells": [
  {
   "cell_type": "code",
   "execution_count": 41,
   "metadata": {},
   "outputs": [],
   "source": [
    "import tigramite \n",
    "from __future__ import print_function\n",
    "from ipywidgets import interact, interactive, fixed, interact_manual\n",
    "import ipywidgets as widgets\n",
    "import os\n",
    "from ipywidgets import AppLayout, Button, Layout, VBox, HBox, GridspecLayout\n",
    "from io import BytesIO\n",
    "\n",
    "#tigramite imports\n",
    "\n",
    "import numpy as np\n",
    "import matplotlib\n",
    "from matplotlib import pyplot as plt\n",
    "%matplotlib inline\n",
    "import sklearn\n",
    "\n",
    "import tigramite\n",
    "from tigramite import data_processing as pp\n",
    "from tigramite import plotting as tp\n",
    "from tigramite.pcmci import PCMCI\n",
    "from tigramite.independence_tests import ParCorr, GPDC, CMIknn, CMIsymb"
   ]
  },
  {
   "cell_type": "markdown",
   "metadata": {},
   "source": [
    "First very basic version"
   ]
  },
  {
   "cell_type": "code",
   "execution_count": null,
   "metadata": {
    "scrolled": false
   },
   "outputs": [],
   "source": []
  },
  {
   "cell_type": "code",
   "execution_count": 42,
   "metadata": {},
   "outputs": [],
   "source": [
    "def calculateResults(Data, Mask, Method, Test):\n",
    "    with terminal_out:\n",
    "        data = np.load(Data)\n",
    "        if (Mask != \"none\"):\n",
    "            mask = np.load(Mask)\n",
    "            dataframe = pp.DataFrame(data, mask=mask)\n",
    "        else:\n",
    "            dataframe = pp.DataFrame(data)\n",
    "        cond_ind_test = getCondIndTest(Test)\n",
    "        global pcmci\n",
    "        pcmci = PCMCI(\n",
    "            dataframe=dataframe, \n",
    "            cond_ind_test=cond_ind_test,\n",
    "            verbosity=1)\n",
    "        global results \n",
    "        if (Method==\"PCMCI\"):\n",
    "            results = pcmci.run_pcmci(tau_max=8, pc_alpha=None)\n",
    "        elif (Method == \"PCMCI+\"):\n",
    "            results = pcmci.run_pcmciplus()\n",
    "    return True"
   ]
  },
  {
   "cell_type": "code",
   "execution_count": 43,
   "metadata": {},
   "outputs": [],
   "source": [
    "def makePlot(plot_type):\n",
    "    try:\n",
    "        q_matrix = pcmci.get_corrected_pvalues(p_matrix=results['p_matrix'], fdr_method='fdr_bh')\n",
    "        var_names = [r'$X^0$', r'$X^1$', r'$X^2$', r'$X^3$']\n",
    "        \"\"\"pcmci.print_significant_links(\n",
    "                p_matrix = results['p_matrix'], \n",
    "                q_matrix = q_matrix,\n",
    "                val_matrix = results['val_matrix'],\n",
    "                alpha_level = 0.01)\"\"\"\n",
    "        link_matrix = pcmci.return_significant_links(pq_matrix=q_matrix,\n",
    "                        val_matrix=results['val_matrix'], alpha_level=0.01)['link_matrix']\n",
    "        if plot_type==\"Process Graph\":\n",
    "            tp.plot_graph(\n",
    "                val_matrix=results['val_matrix'],\n",
    "                link_matrix=link_matrix,\n",
    "                var_names=var_names,\n",
    "                link_colorbar_label='cross-MCI',\n",
    "                node_colorbar_label='auto-MCI',\n",
    "            )\n",
    "        elif plot_type==\"Time series graph\":\n",
    "            tp.plot_time_series_graph(\n",
    "                figsize=(6, 4),\n",
    "                val_matrix=results['val_matrix'],\n",
    "                link_matrix=link_matrix,\n",
    "                var_names=var_names,\n",
    "                link_colorbar_label='MCI',\n",
    "                )\n",
    "        elif plot_type==\"Lagged Correlation\":\n",
    "            correlations = pcmci.get_lagged_dependencies(tau_max=20, val_only=True)['val_matrix']\n",
    "            lag_func_matrix = tp.plot_lagfuncs(val_matrix=correlations, setup_args={'var_names':var_names, \n",
    "                                    'x_base':5, 'y_base':.5})\n",
    "        else: \n",
    "            print(\"This should not be possible!\")\n",
    "        with plot_out:\n",
    "            plt.show()\n",
    "    except Exception as e:\n",
    "        print(\"Something went wrong here! Try executing the first part\")\n",
    "        print(e.message)\n",
    "            \n",
    "    return True\n",
    "    "
   ]
  },
  {
   "cell_type": "code",
   "execution_count": 4,
   "metadata": {},
   "outputs": [],
   "source": [
    "def getCondIndTest(Test):\n",
    "    print(Test)\n",
    "    if (Test == \"ParCorr\"):\n",
    "        return ParCorr(significance='analytic')\n",
    "    elif (Test == \"GPDC\"):\n",
    "        return GPDC()\n",
    "    elif (Test == \"CMIknn\"):\n",
    "        return CMIknn()\n",
    "    elif (Test == \"CMIsymb\"):\n",
    "        return CMIsymb()\n",
    "    else:\n",
    "        raise Exception(\"Something is not right here.\")"
   ]
  },
  {
   "cell_type": "code",
   "execution_count": 65,
   "metadata": {},
   "outputs": [
    {
     "name": "stdout",
     "output_type": "stream",
     "text": [
      "C:\\Users\\rosem\\Documents\\WS 2021\\BA\\Prototype\n"
     ]
    }
   ],
   "source": [
    "# widgets\n",
    "print(os.getcwd())\n",
    "listDir = []\n",
    "for entry in os.scandir(os.getcwd()):\n",
    "    listDir.append(entry.name)\n",
    "listDir.append(\"none\")\n",
    "example_widget = widgets.Dropdown(\n",
    "    options=listDir,#os.scandir(os.getcwd()),#.append(\"none\"),\n",
    "    value='none',\n",
    "    description='Number:',\n",
    "    disabled=False,\n",
    ")\n",
    "data_upload_widget = widgets.Dropdown(\n",
    "    options=listDir,#os.scandir(os.getcwd()),#.append(\"none\"),\n",
    "    value='none',\n",
    "    description='Data:',\n",
    "    disabled=False\n",
    ")\n",
    "\n",
    "mask_upload_widget = widgets.Dropdown(\n",
    "    options=listDir,#os.scandir(os.getcwd()),#.append(\"none\"),\n",
    "    value='none',\n",
    "    description='Mask:',\n",
    "    disabled=False,\n",
    ")\n",
    "method_widget = widgets.Dropdown(\n",
    "    options=[\"PCMCI\", \"PCMCI+\"],\n",
    "    value=\"PCMCI\",\n",
    "    description=\"Method:\",\n",
    "    disabled=False\n",
    ")\n",
    "test_widget = widgets.Dropdown(\n",
    "    options=[\"ParCorr\", \"GPDC\", \"CMIknn\", \"CMIsymb\", \"OracleCI\"],\n",
    "    value=\"ParCorr\",\n",
    "    description=\"CI Test:\",\n",
    "    disabled=False\n",
    ")\n",
    "\n",
    "plots_widget = widgets.Dropdown(\n",
    "    options=[\"Process Graph\", \"Time series graph\", \"Lagged Correlation\"],\n",
    "    value=\"Process Graph\",\n",
    "    description=\"Plot:\",\n",
    "    disabled=False,\n",
    "    continuous_update=False,\n",
    "    tooltip=\"This is the tip\"\n",
    ")\n",
    "method_parameter_button = widgets.Button(\n",
    "    description = \"Parameter\"\n",
    ")\n",
    "max_tau = widgets.IntSlider(\n",
    ")\n",
    "parameter_accordion = widgets.Accordion(\n",
    "    children= [max_tau]\n",
    ")\n",
    "accordion = widgets.Accordion(children=[VBox([method_widget, parameter_accordion]), test_widget])\n",
    "accordion.set_title(0, 'Method')\n",
    "accordion.set_title(1, 'Test')\n",
    "\n",
    "plot_out = widgets.Output(layout={'border': '1px solid black'})\n",
    "terminal_out = widgets.Output(\n",
    "    layout={'border': '1px solid black'},\n",
    ")\n",
    "\n",
    "def on_button_clicked(b):\n",
    "    return calculateResults(data_upload_widget.value, mask_upload_widget.value, method_widget.value, test_widget.value)\n",
    "\n",
    "run_button.on_click(on_button_clicked)\n",
    "def on_change(change):\n",
    "    if change['type'] == 'change' and change['name'] == 'value':\n",
    "        print(\"changed to %s\" % change['new'])\n",
    "        makePlot(change['new'])\n",
    "\n",
    "plots_widget.observe(on_change)\n",
    "clear_all()"
   ]
  },
  {
   "cell_type": "code",
   "execution_count": 11,
   "metadata": {},
   "outputs": [],
   "source": [
    "def generateLayout(header, left, right, footer):\n",
    "    AppLayout(header=header,\n",
    "             left_sidebar=left,\n",
    "             right_sidebar=right,\n",
    "             footer=footer)"
   ]
  },
  {
   "cell_type": "code",
   "execution_count": 40,
   "metadata": {
    "scrolled": false
   },
   "outputs": [
    {
     "data": {
      "application/vnd.jupyter.widget-view+json": {
       "model_id": "8125954b070e4fd0bb33ab1c411b8705",
       "version_major": 2,
       "version_minor": 0
      },
      "text/plain": [
       "AppLayout(children=(VBox(children=(Dropdown(description='Data:', index=7, options=('.git', '.ipynb_checkpoints…"
      ]
     },
     "metadata": {},
     "output_type": "display_data"
    }
   ],
   "source": [
    "def create_expanded_button(description, button_style):\n",
    "    return Button(description=description, button_style=button_style, layout=Layout(height='auto', width='auto'))\n",
    "\n",
    "header_button = create_expanded_button('Header', 'success')\n",
    "left_button = create_expanded_button('Left', 'info')\n",
    "center_button = create_expanded_button('Center', 'warning')\n",
    "right_button = create_expanded_button('Right', 'info')\n",
    "footer_button = create_expanded_button('Footer', 'success')\n",
    "run_button = widgets.Button(description=\"Run\")\n",
    "\n",
    "footer_button.on_click(reload)\n",
    "\n",
    "\n",
    "def reload(b):\n",
    "    print(\"reloaded\")\n",
    "    return generateLayout(header_button, VBox([data_upload_widget, mask_upload_widget, HBox([method_widget, method_parameter_button, accordion]), test_widget, run_button]),VBox([plots_widget]),footer_button)\n",
    "\n",
    "AppLayout(header=None,\n",
    "          left_sidebar= VBox([data_upload_widget, mask_upload_widget, HBox([method_widget, method_parameter_button]), test_widget, run_button]),\n",
    "          center= out,\n",
    "          right_sidebar=VBox([plots_widget]),\n",
    "          footer=None)"
   ]
  },
  {
   "cell_type": "code",
   "execution_count": 62,
   "metadata": {},
   "outputs": [],
   "source": [
    "def clear_all():\n",
    "    terminal_out.clear_output()\n",
    "    plot_out.clear_output()\n",
    "clear_all()"
   ]
  },
  {
   "cell_type": "code",
   "execution_count": 66,
   "metadata": {
    "scrolled": false
   },
   "outputs": [
    {
     "data": {
      "application/vnd.jupyter.widget-view+json": {
       "model_id": "21fa95edb7f64454948245cf89d9d942",
       "version_major": 2,
       "version_minor": 0
      },
      "text/plain": [
       "GridspecLayout(children=(VBox(children=(Dropdown(description='Data:', index=7, options=('.git', '.ipynb_checkp…"
      ]
     },
     "metadata": {},
     "output_type": "display_data"
    },
    {
     "name": "stdout",
     "output_type": "stream",
     "text": [
      "changed to Time series graph\n"
     ]
    }
   ],
   "source": [
    "grid = GridspecLayout(4,4)\n",
    "grid[:2,:] = VBox([data_upload_widget, mask_upload_widget, HBox([method_widget, method_parameter_button]), test_widget, run_button, plots_widget])\n",
    "grid[2:,:1] = terminal_out\n",
    "grid[2:,1:] = plot_out\n",
    "grid"
   ]
  },
  {
   "cell_type": "markdown",
   "metadata": {},
   "source": [
    "Alte Version"
   ]
  },
  {
   "cell_type": "code",
   "execution_count": null,
   "metadata": {},
   "outputs": [],
   "source": [
    "\n",
    "var_names = [r'$X^0$', r'$X^1$', r'$X^2$', r'$X^3$']\n",
    "@interact_manual\n",
    "def calcInput(Data=os.listdir(), Mask=example_widget, Method=[\"PCMCI\", \"PCMCI+\"], Tests=[\"Test1\", \"Test2\"]):\n",
    "    return calculateResults(Data, Mask, Method, Tests)\n",
    "\n",
    "@interact_manual\n",
    "def showPlots(plot_type=[\"Process Graph\", \"Time series graph\", \"Lagged Correlation\"]):\n",
    "    return makePlot(plot_type.value)"
   ]
  },
  {
   "cell_type": "code",
   "execution_count": null,
   "metadata": {},
   "outputs": [],
   "source": []
  }
 ],
 "metadata": {
  "kernelspec": {
   "display_name": "Python 3",
   "language": "python",
   "name": "python3"
  },
  "language_info": {
   "codemirror_mode": {
    "name": "ipython",
    "version": 3
   },
   "file_extension": ".py",
   "mimetype": "text/x-python",
   "name": "python",
   "nbconvert_exporter": "python",
   "pygments_lexer": "ipython3",
   "version": "3.8.5"
  }
 },
 "nbformat": 4,
 "nbformat_minor": 4
}
